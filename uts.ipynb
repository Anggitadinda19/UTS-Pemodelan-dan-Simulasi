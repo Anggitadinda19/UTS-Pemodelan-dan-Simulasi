{
 "cells": [
  {
   "cell_type": "code",
   "execution_count": 20,
   "metadata": {},
   "outputs": [
    {
     "name": "stdout",
     "output_type": "stream",
     "text": [
      "Jumlah kepala: 27\n",
      "Jumlah ekor: 23\n"
     ]
    }
   ],
   "source": [
    "from modsim import *\n",
    "import random\n",
    "\n",
    "def flip_coin(system):\n",
    "    \"\"\"Simulates flipping a coin and updates the system state.\"\"\"\n",
    "    outcome = random.choice(['H', 'T'])\n",
    "    if outcome == 'H':\n",
    "        system.state.heads += 1\n",
    "    else:\n",
    "        system.state.tails += 1\n",
    "\n",
    "def run_simulation_coin_flip(num_flips):\n",
    "    \"\"\"Runs the coin flip simulation for a given number of flips.\"\"\"\n",
    "    state = State(heads=0, tails=0)\n",
    "    system = System(state=state)\n",
    "    \n",
    "    for _ in range(num_flips):\n",
    "        flip_coin(system)\n",
    "    \n",
    "    return system.state.heads, system.state.tails\n",
    "\n",
    "# Contoh penggunaan simulasi untuk 50 pelemparan\n",
    "num_flips = 50\n",
    "heads, tails = run_simulation_coin_flip(num_flips)\n",
    "print(\"Jumlah kepala:\", heads)\n",
    "print(\"Jumlah ekor:\", tails)"
   ]
  }
 ],
 "metadata": {
  "kernelspec": {
   "display_name": "Python 3",
   "language": "python",
   "name": "python3"
  },
  "language_info": {
   "codemirror_mode": {
    "name": "ipython",
    "version": 3
   },
   "file_extension": ".py",
   "mimetype": "text/x-python",
   "name": "python",
   "nbconvert_exporter": "python",
   "pygments_lexer": "ipython3",
   "version": "3.11.4"
  }
 },
 "nbformat": 4,
 "nbformat_minor": 2
}
